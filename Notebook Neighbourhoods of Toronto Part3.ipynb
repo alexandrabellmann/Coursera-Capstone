{
    "cells": [
        {
            "cell_type": "markdown",
            "metadata": {
                "collapsed": true
            },
            "source": "## Segmenting and Clustering Neighbourhoods in Toronto"
        },
        {
            "cell_type": "markdown",
            "metadata": {},
            "source": "### Part 1: Converting Wikipedia html table into a DataFrame"
        },
        {
            "cell_type": "code",
            "execution_count": 1,
            "metadata": {},
            "outputs": [],
            "source": "import numpy as np\nimport pandas as pd\nfrom pandas import DataFrame\nfrom bs4 import BeautifulSoup as bsoup\nfrom urllib.request import urlopen as uReq\nimport requests\nimport lxml"
        },
        {
            "cell_type": "code",
            "execution_count": 2,
            "metadata": {},
            "outputs": [],
            "source": "source_file='https://en.wikipedia.org/wiki/List_of_postal_codes_of_Canada:_M'\nr=requests.get(source_file)"
        },
        {
            "cell_type": "markdown",
            "metadata": {},
            "source": "#### 1.1 Read the web html file with BeautifulSoup "
        },
        {
            "cell_type": "code",
            "execution_count": 3,
            "metadata": {},
            "outputs": [],
            "source": "page_content=bsoup(r.text,\"html.parser\")\n#page_content"
        },
        {
            "cell_type": "markdown",
            "metadata": {},
            "source": "#### 1.2 Find Table in html file"
        },
        {
            "cell_type": "code",
            "execution_count": 5,
            "metadata": {},
            "outputs": [],
            "source": "mytable=page_content.table\n#mytable"
        },
        {
            "cell_type": "code",
            "execution_count": 6,
            "metadata": {},
            "outputs": [
                {
                    "name": "stdout",
                    "output_type": "stream",
                    "text": "now we have found 288  lines incl. the Header, which is the first line with 0 index\n"
                }
            ],
            "source": "results=mytable.find_all('tr')\nno_lines=len(results)\nprint('now we have found', no_lines, ' lines incl. the Header, which is the first line with 0 index')"
        },
        {
            "cell_type": "code",
            "execution_count": 7,
            "metadata": {},
            "outputs": [
                {
                    "data": {
                        "text/plain": "['Postcode', 'Borough', 'Neighbourhood']"
                    },
                    "execution_count": 7,
                    "metadata": {},
                    "output_type": "execute_result"
                }
            ],
            "source": "header=results[0].text.split()\nheader"
        },
        {
            "cell_type": "markdown",
            "metadata": {},
            "source": "#### 1.3 Create a loop to extract the table contents into a dataframe df1"
        },
        {
            "cell_type": "code",
            "execution_count": 8,
            "metadata": {},
            "outputs": [
                {
                    "data": {
                        "text/html": "<div>\n<style scoped>\n    .dataframe tbody tr th:only-of-type {\n        vertical-align: middle;\n    }\n\n    .dataframe tbody tr th {\n        vertical-align: top;\n    }\n\n    .dataframe thead th {\n        text-align: right;\n    }\n</style>\n<table border=\"1\" class=\"dataframe\">\n  <thead>\n    <tr style=\"text-align: right;\">\n      <th></th>\n      <th>PostalCode</th>\n      <th>Borough</th>\n      <th>Neighbourhood</th>\n    </tr>\n  </thead>\n  <tbody>\n    <tr>\n      <th>0</th>\n      <td>M1A</td>\n      <td>Not assigned</td>\n      <td>Not assigned</td>\n    </tr>\n    <tr>\n      <th>1</th>\n      <td>M2A</td>\n      <td>Not assigned</td>\n      <td>Not assigned</td>\n    </tr>\n    <tr>\n      <th>2</th>\n      <td>M3A</td>\n      <td>North York</td>\n      <td>Parkwoods</td>\n    </tr>\n    <tr>\n      <th>3</th>\n      <td>M4A</td>\n      <td>North York</td>\n      <td>Victoria Village</td>\n    </tr>\n    <tr>\n      <th>4</th>\n      <td>M5A</td>\n      <td>Downtown Toronto</td>\n      <td>Harbourfront</td>\n    </tr>\n  </tbody>\n</table>\n</div>",
                        "text/plain": "  PostalCode           Borough     Neighbourhood\n0        M1A      Not assigned      Not assigned\n1        M2A      Not assigned      Not assigned\n2        M3A        North York         Parkwoods\n3        M4A        North York  Victoria Village\n4        M5A  Downtown Toronto      Harbourfront"
                    },
                    "execution_count": 8,
                    "metadata": {},
                    "output_type": "execute_result"
                }
            ],
            "source": "lines =[]\nn=1\nwhile n < no_lines :\n    Postcode=results[n].text.split('\\n')[1]\n    Borough=results[n].text.split('\\n')[2]\n    Neighborhood=results[n].text.split('\\n')[3]\n    lines.append((Postcode, Borough,Neighborhood))\n    n=n+1\n\ndf1=pd.DataFrame(lines, columns=['PostalCode', 'Borough', 'Neighbourhood'])\ndf1.head(5)"
        },
        {
            "cell_type": "code",
            "execution_count": 14,
            "metadata": {},
            "outputs": [
                {
                    "data": {
                        "text/plain": "(287, 3)"
                    },
                    "execution_count": 14,
                    "metadata": {},
                    "output_type": "execute_result"
                }
            ],
            "source": "df1.shape"
        },
        {
            "cell_type": "markdown",
            "metadata": {},
            "source": "#### 1.4 Remove all rows with Borough = 'Not assigned' "
        },
        {
            "cell_type": "code",
            "execution_count": 15,
            "metadata": {},
            "outputs": [
                {
                    "data": {
                        "text/plain": "PostalCode       77\nBorough          77\nNeighbourhood    77\ndtype: int64"
                    },
                    "execution_count": 15,
                    "metadata": {},
                    "output_type": "execute_result"
                }
            ],
            "source": "df1[df1['Borough']=='Not assigned'].count()"
        },
        {
            "cell_type": "code",
            "execution_count": 9,
            "metadata": {},
            "outputs": [],
            "source": "df1.drop(df1[df1.Borough =='Not assigned'].index, inplace = True)\ndf1.reset_index(drop=True, inplace = True)"
        },
        {
            "cell_type": "code",
            "execution_count": 17,
            "metadata": {},
            "outputs": [
                {
                    "data": {
                        "text/html": "<div>\n<style scoped>\n    .dataframe tbody tr th:only-of-type {\n        vertical-align: middle;\n    }\n\n    .dataframe tbody tr th {\n        vertical-align: top;\n    }\n\n    .dataframe thead th {\n        text-align: right;\n    }\n</style>\n<table border=\"1\" class=\"dataframe\">\n  <thead>\n    <tr style=\"text-align: right;\">\n      <th></th>\n      <th>PostalCode</th>\n      <th>Borough</th>\n      <th>Neighbourhood</th>\n    </tr>\n  </thead>\n  <tbody>\n    <tr>\n      <th>0</th>\n      <td>M3A</td>\n      <td>North York</td>\n      <td>Parkwoods</td>\n    </tr>\n    <tr>\n      <th>1</th>\n      <td>M4A</td>\n      <td>North York</td>\n      <td>Victoria Village</td>\n    </tr>\n    <tr>\n      <th>2</th>\n      <td>M5A</td>\n      <td>Downtown Toronto</td>\n      <td>Harbourfront</td>\n    </tr>\n    <tr>\n      <th>3</th>\n      <td>M6A</td>\n      <td>North York</td>\n      <td>Lawrence Heights</td>\n    </tr>\n    <tr>\n      <th>4</th>\n      <td>M6A</td>\n      <td>North York</td>\n      <td>Lawrence Manor</td>\n    </tr>\n  </tbody>\n</table>\n</div>",
                        "text/plain": "  PostalCode           Borough     Neighbourhood\n0        M3A        North York         Parkwoods\n1        M4A        North York  Victoria Village\n2        M5A  Downtown Toronto      Harbourfront\n3        M6A        North York  Lawrence Heights\n4        M6A        North York    Lawrence Manor"
                    },
                    "execution_count": 17,
                    "metadata": {},
                    "output_type": "execute_result"
                }
            ],
            "source": "df1.head(5)"
        },
        {
            "cell_type": "code",
            "execution_count": 18,
            "metadata": {},
            "outputs": [
                {
                    "data": {
                        "text/html": "<div>\n<style scoped>\n    .dataframe tbody tr th:only-of-type {\n        vertical-align: middle;\n    }\n\n    .dataframe tbody tr th {\n        vertical-align: top;\n    }\n\n    .dataframe thead th {\n        text-align: right;\n    }\n</style>\n<table border=\"1\" class=\"dataframe\">\n  <thead>\n    <tr style=\"text-align: right;\">\n      <th></th>\n      <th>PostalCode</th>\n      <th>Borough</th>\n      <th>Neighbourhood</th>\n    </tr>\n  </thead>\n  <tbody>\n    <tr>\n      <th>205</th>\n      <td>M8Z</td>\n      <td>Etobicoke</td>\n      <td>Kingsway Park South West</td>\n    </tr>\n    <tr>\n      <th>206</th>\n      <td>M8Z</td>\n      <td>Etobicoke</td>\n      <td>Mimico NW</td>\n    </tr>\n    <tr>\n      <th>207</th>\n      <td>M8Z</td>\n      <td>Etobicoke</td>\n      <td>The Queensway West</td>\n    </tr>\n    <tr>\n      <th>208</th>\n      <td>M8Z</td>\n      <td>Etobicoke</td>\n      <td>Royal York South West</td>\n    </tr>\n    <tr>\n      <th>209</th>\n      <td>M8Z</td>\n      <td>Etobicoke</td>\n      <td>South of Bloor</td>\n    </tr>\n  </tbody>\n</table>\n</div>",
                        "text/plain": "    PostalCode    Borough             Neighbourhood\n205        M8Z  Etobicoke  Kingsway Park South West\n206        M8Z  Etobicoke                 Mimico NW\n207        M8Z  Etobicoke        The Queensway West\n208        M8Z  Etobicoke     Royal York South West\n209        M8Z  Etobicoke            South of Bloor"
                    },
                    "execution_count": 18,
                    "metadata": {},
                    "output_type": "execute_result"
                }
            ],
            "source": "df1.tail()"
        },
        {
            "cell_type": "code",
            "execution_count": 19,
            "metadata": {},
            "outputs": [
                {
                    "data": {
                        "text/plain": "(210, 3)"
                    },
                    "execution_count": 19,
                    "metadata": {},
                    "output_type": "execute_result"
                }
            ],
            "source": "df1.shape"
        },
        {
            "cell_type": "markdown",
            "metadata": {},
            "source": "#### 1.5 Replace 'Not assigned' neighborhoods with the name of the Borough"
        },
        {
            "cell_type": "code",
            "execution_count": 20,
            "metadata": {},
            "outputs": [
                {
                    "data": {
                        "text/plain": "PostalCode       1\nBorough          1\nNeighbourhood    1\ndtype: int64"
                    },
                    "execution_count": 20,
                    "metadata": {},
                    "output_type": "execute_result"
                }
            ],
            "source": "df1[df1['Neighbourhood']=='Not assigned'].count()"
        },
        {
            "cell_type": "code",
            "execution_count": 10,
            "metadata": {},
            "outputs": [],
            "source": "df1.loc[df1['Neighbourhood'] == 'Not assigned', 'Neighbourhood'] = df1['Borough']"
        },
        {
            "cell_type": "code",
            "execution_count": 11,
            "metadata": {},
            "outputs": [
                {
                    "data": {
                        "text/plain": "PostalCode       0\nBorough          0\nNeighbourhood    0\ndtype: int64"
                    },
                    "execution_count": 11,
                    "metadata": {},
                    "output_type": "execute_result"
                }
            ],
            "source": "df1[df1['Neighbourhood']=='Not assigned'].count()"
        },
        {
            "cell_type": "markdown",
            "metadata": {},
            "source": "##### 1 row with 'not assigned' Neighborhood was replaced by Borough"
        },
        {
            "cell_type": "code",
            "execution_count": 23,
            "metadata": {},
            "outputs": [
                {
                    "data": {
                        "text/plain": "(210, 3)"
                    },
                    "execution_count": 23,
                    "metadata": {},
                    "output_type": "execute_result"
                }
            ],
            "source": "df1.shape"
        },
        {
            "cell_type": "markdown",
            "metadata": {},
            "source": "#### 1.6 Combine into one row all PostalCodes/ Boroughs with several neighborhoods with the neighborhoods separated with a comma"
        },
        {
            "cell_type": "code",
            "execution_count": 12,
            "metadata": {},
            "outputs": [
                {
                    "name": "stdout",
                    "output_type": "stream",
                    "text": "Target Data Frame should only consists of  103  lines\n"
                }
            ],
            "source": "print('Target Data Frame should only consists of ', len(df1.groupby(['PostalCode','Borough'])), ' lines')\n"
        },
        {
            "cell_type": "code",
            "execution_count": 13,
            "metadata": {},
            "outputs": [],
            "source": "df1 = df1[~df1['Borough'].isnull()]  # to filter out bad rows"
        },
        {
            "cell_type": "code",
            "execution_count": 39,
            "metadata": {},
            "outputs": [
                {
                    "data": {
                        "text/plain": "(210, 3)"
                    },
                    "execution_count": 39,
                    "metadata": {},
                    "output_type": "execute_result"
                }
            ],
            "source": "df1.shape"
        },
        {
            "cell_type": "code",
            "execution_count": 14,
            "metadata": {},
            "outputs": [],
            "source": "df_target = df1.groupby(['PostalCode','Borough'])['Neighbourhood'].apply(lambda x: ','.join(x)).reset_index()"
        },
        {
            "cell_type": "code",
            "execution_count": 45,
            "metadata": {},
            "outputs": [
                {
                    "data": {
                        "text/html": "<div>\n<style scoped>\n    .dataframe tbody tr th:only-of-type {\n        vertical-align: middle;\n    }\n\n    .dataframe tbody tr th {\n        vertical-align: top;\n    }\n\n    .dataframe thead th {\n        text-align: right;\n    }\n</style>\n<table border=\"1\" class=\"dataframe\">\n  <thead>\n    <tr style=\"text-align: right;\">\n      <th></th>\n      <th>PostalCode</th>\n      <th>Borough</th>\n      <th>Neighbourhood</th>\n    </tr>\n  </thead>\n  <tbody>\n    <tr>\n      <th>0</th>\n      <td>M1B</td>\n      <td>Scarborough</td>\n      <td>Rouge,Malvern</td>\n    </tr>\n    <tr>\n      <th>1</th>\n      <td>M1C</td>\n      <td>Scarborough</td>\n      <td>Highland Creek,Rouge Hill,Port Union</td>\n    </tr>\n    <tr>\n      <th>2</th>\n      <td>M1E</td>\n      <td>Scarborough</td>\n      <td>Guildwood,Morningside,West Hill</td>\n    </tr>\n    <tr>\n      <th>3</th>\n      <td>M1G</td>\n      <td>Scarborough</td>\n      <td>Woburn</td>\n    </tr>\n    <tr>\n      <th>4</th>\n      <td>M1H</td>\n      <td>Scarborough</td>\n      <td>Cedarbrae</td>\n    </tr>\n  </tbody>\n</table>\n</div>",
                        "text/plain": "  PostalCode      Borough                         Neighbourhood\n0        M1B  Scarborough                         Rouge,Malvern\n1        M1C  Scarborough  Highland Creek,Rouge Hill,Port Union\n2        M1E  Scarborough       Guildwood,Morningside,West Hill\n3        M1G  Scarborough                                Woburn\n4        M1H  Scarborough                             Cedarbrae"
                    },
                    "execution_count": 45,
                    "metadata": {},
                    "output_type": "execute_result"
                }
            ],
            "source": "df_target.head(5)"
        },
        {
            "cell_type": "code",
            "execution_count": 46,
            "metadata": {},
            "outputs": [
                {
                    "data": {
                        "text/plain": "(103, 3)"
                    },
                    "execution_count": 46,
                    "metadata": {},
                    "output_type": "execute_result"
                }
            ],
            "source": "df_target.shape"
        },
        {
            "cell_type": "markdown",
            "metadata": {},
            "source": "### Now we have the first part of Target Data Frame ready with only 103 lines"
        },
        {
            "cell_type": "markdown",
            "metadata": {},
            "source": "### End of Part 1 of 2 of Toronto Project --------------------------"
        },
        {
            "cell_type": "markdown",
            "metadata": {},
            "source": "### Part 2: Get the latitude and the longitude coordinates of each neighborhood"
        },
        {
            "cell_type": "markdown",
            "metadata": {},
            "source": "#### 2.1 Get the data from Geodata URL"
        },
        {
            "cell_type": "code",
            "execution_count": 15,
            "metadata": {},
            "outputs": [
                {
                    "data": {
                        "text/html": "<div>\n<style scoped>\n    .dataframe tbody tr th:only-of-type {\n        vertical-align: middle;\n    }\n\n    .dataframe tbody tr th {\n        vertical-align: top;\n    }\n\n    .dataframe thead th {\n        text-align: right;\n    }\n</style>\n<table border=\"1\" class=\"dataframe\">\n  <thead>\n    <tr style=\"text-align: right;\">\n      <th></th>\n      <th>Postal Code</th>\n      <th>Latitude</th>\n      <th>Longitude</th>\n    </tr>\n  </thead>\n  <tbody>\n    <tr>\n      <th>0</th>\n      <td>M1B</td>\n      <td>43.806686</td>\n      <td>-79.194353</td>\n    </tr>\n    <tr>\n      <th>1</th>\n      <td>M1C</td>\n      <td>43.784535</td>\n      <td>-79.160497</td>\n    </tr>\n    <tr>\n      <th>2</th>\n      <td>M1E</td>\n      <td>43.763573</td>\n      <td>-79.188711</td>\n    </tr>\n    <tr>\n      <th>3</th>\n      <td>M1G</td>\n      <td>43.770992</td>\n      <td>-79.216917</td>\n    </tr>\n    <tr>\n      <th>4</th>\n      <td>M1H</td>\n      <td>43.773136</td>\n      <td>-79.239476</td>\n    </tr>\n  </tbody>\n</table>\n</div>",
                        "text/plain": "  Postal Code   Latitude  Longitude\n0         M1B  43.806686 -79.194353\n1         M1C  43.784535 -79.160497\n2         M1E  43.763573 -79.188711\n3         M1G  43.770992 -79.216917\n4         M1H  43.773136 -79.239476"
                    },
                    "execution_count": 15,
                    "metadata": {},
                    "output_type": "execute_result"
                }
            ],
            "source": "url='http://cocl.us/Geospatial_data'\ngeodata_df=pd.read_csv(url)\ngeodata_df.head()"
        },
        {
            "cell_type": "code",
            "execution_count": 49,
            "metadata": {},
            "outputs": [
                {
                    "data": {
                        "text/plain": "(103, 3)"
                    },
                    "execution_count": 49,
                    "metadata": {},
                    "output_type": "execute_result"
                }
            ],
            "source": "geodata_df.shape"
        },
        {
            "cell_type": "code",
            "execution_count": 16,
            "metadata": {},
            "outputs": [
                {
                    "data": {
                        "text/html": "<div>\n<style scoped>\n    .dataframe tbody tr th:only-of-type {\n        vertical-align: middle;\n    }\n\n    .dataframe tbody tr th {\n        vertical-align: top;\n    }\n\n    .dataframe thead th {\n        text-align: right;\n    }\n</style>\n<table border=\"1\" class=\"dataframe\">\n  <thead>\n    <tr style=\"text-align: right;\">\n      <th></th>\n      <th>PostalCode</th>\n      <th>Latitude</th>\n      <th>Longitude</th>\n    </tr>\n  </thead>\n  <tbody>\n    <tr>\n      <th>0</th>\n      <td>M1B</td>\n      <td>43.806686</td>\n      <td>-79.194353</td>\n    </tr>\n    <tr>\n      <th>1</th>\n      <td>M1C</td>\n      <td>43.784535</td>\n      <td>-79.160497</td>\n    </tr>\n    <tr>\n      <th>2</th>\n      <td>M1E</td>\n      <td>43.763573</td>\n      <td>-79.188711</td>\n    </tr>\n    <tr>\n      <th>3</th>\n      <td>M1G</td>\n      <td>43.770992</td>\n      <td>-79.216917</td>\n    </tr>\n    <tr>\n      <th>4</th>\n      <td>M1H</td>\n      <td>43.773136</td>\n      <td>-79.239476</td>\n    </tr>\n  </tbody>\n</table>\n</div>",
                        "text/plain": "  PostalCode   Latitude  Longitude\n0        M1B  43.806686 -79.194353\n1        M1C  43.784535 -79.160497\n2        M1E  43.763573 -79.188711\n3        M1G  43.770992 -79.216917\n4        M1H  43.773136 -79.239476"
                    },
                    "execution_count": 16,
                    "metadata": {},
                    "output_type": "execute_result"
                }
            ],
            "source": "geodata_df.rename(columns={'Postal Code':'PostalCode'},inplace=True)\ngeodata_df.head()"
        },
        {
            "cell_type": "markdown",
            "metadata": {},
            "source": "#### 2.2 Merge the target Data Frame with Geodata"
        },
        {
            "cell_type": "code",
            "execution_count": 21,
            "metadata": {},
            "outputs": [],
            "source": "df_merged = df_target.join(geodata_df.set_index('PostalCode'), on='PostalCode')\n#df_merged"
        },
        {
            "cell_type": "markdown",
            "metadata": {},
            "source": "### End of Part 2 of 2 of Toronto Project ------------------------"
        },
        {
            "cell_type": "markdown",
            "metadata": {},
            "source": "### Part 3: Exploring Toronto Neighbourhood"
        },
        {
            "cell_type": "markdown",
            "metadata": {},
            "source": "#### 3.1 Select Data Frame with Toronto boroughs"
        },
        {
            "cell_type": "code",
            "execution_count": 23,
            "metadata": {},
            "outputs": [
                {
                    "data": {
                        "text/html": "<div>\n<style scoped>\n    .dataframe tbody tr th:only-of-type {\n        vertical-align: middle;\n    }\n\n    .dataframe tbody tr th {\n        vertical-align: top;\n    }\n\n    .dataframe thead th {\n        text-align: right;\n    }\n</style>\n<table border=\"1\" class=\"dataframe\">\n  <thead>\n    <tr style=\"text-align: right;\">\n      <th></th>\n      <th>PostalCode</th>\n      <th>Borough</th>\n      <th>Neighbourhood</th>\n      <th>Latitude</th>\n      <th>Longitude</th>\n    </tr>\n  </thead>\n  <tbody>\n    <tr>\n      <th>0</th>\n      <td>M4E</td>\n      <td>East Toronto</td>\n      <td>The Beaches</td>\n      <td>43.676357</td>\n      <td>-79.293031</td>\n    </tr>\n    <tr>\n      <th>1</th>\n      <td>M4K</td>\n      <td>East Toronto</td>\n      <td>The Danforth West,Riverdale</td>\n      <td>43.679557</td>\n      <td>-79.352188</td>\n    </tr>\n    <tr>\n      <th>2</th>\n      <td>M4L</td>\n      <td>East Toronto</td>\n      <td>The Beaches West,India Bazaar</td>\n      <td>43.668999</td>\n      <td>-79.315572</td>\n    </tr>\n    <tr>\n      <th>3</th>\n      <td>M4M</td>\n      <td>East Toronto</td>\n      <td>Studio District</td>\n      <td>43.659526</td>\n      <td>-79.340923</td>\n    </tr>\n    <tr>\n      <th>4</th>\n      <td>M4N</td>\n      <td>Central Toronto</td>\n      <td>Lawrence Park</td>\n      <td>43.728020</td>\n      <td>-79.388790</td>\n    </tr>\n  </tbody>\n</table>\n</div>",
                        "text/plain": "  PostalCode          Borough                  Neighbourhood   Latitude  \\\n0        M4E     East Toronto                    The Beaches  43.676357   \n1        M4K     East Toronto    The Danforth West,Riverdale  43.679557   \n2        M4L     East Toronto  The Beaches West,India Bazaar  43.668999   \n3        M4M     East Toronto                Studio District  43.659526   \n4        M4N  Central Toronto                  Lawrence Park  43.728020   \n\n   Longitude  \n0 -79.293031  \n1 -79.352188  \n2 -79.315572  \n3 -79.340923  \n4 -79.388790  "
                    },
                    "execution_count": 23,
                    "metadata": {},
                    "output_type": "execute_result"
                }
            ],
            "source": "Toronto_data = df_merged[df_merged['Borough'].str.contains('Toronto', na = False)].reset_index(drop=True)\nToronto_data.head(5)"
        },
        {
            "cell_type": "code",
            "execution_count": 24,
            "metadata": {},
            "outputs": [
                {
                    "data": {
                        "text/plain": "(38, 5)"
                    },
                    "execution_count": 24,
                    "metadata": {},
                    "output_type": "execute_result"
                }
            ],
            "source": "Toronto_data.shape\n"
        },
        {
            "cell_type": "markdown",
            "metadata": {},
            "source": "#### Now we have 38 lines (37 without header) in Toronto Data Frame"
        },
        {
            "cell_type": "code",
            "execution_count": 32,
            "metadata": {},
            "outputs": [
                {
                    "data": {
                        "text/html": "<div>\n<style scoped>\n    .dataframe tbody tr th:only-of-type {\n        vertical-align: middle;\n    }\n\n    .dataframe tbody tr th {\n        vertical-align: top;\n    }\n\n    .dataframe thead th {\n        text-align: right;\n    }\n</style>\n<table border=\"1\" class=\"dataframe\">\n  <thead>\n    <tr style=\"text-align: right;\">\n      <th></th>\n      <th>PostalCode</th>\n      <th>Borough</th>\n      <th>Neighbourhood</th>\n      <th>Latitude</th>\n      <th>Longitude</th>\n    </tr>\n  </thead>\n  <tbody>\n    <tr>\n      <th>33</th>\n      <td>M6K</td>\n      <td>West Toronto</td>\n      <td>Brockton,Exhibition Place,Parkdale Village</td>\n      <td>43.636847</td>\n      <td>-79.428191</td>\n    </tr>\n    <tr>\n      <th>34</th>\n      <td>M6P</td>\n      <td>West Toronto</td>\n      <td>High Park,The Junction South</td>\n      <td>43.661608</td>\n      <td>-79.464763</td>\n    </tr>\n    <tr>\n      <th>35</th>\n      <td>M6R</td>\n      <td>West Toronto</td>\n      <td>Parkdale,Roncesvalles</td>\n      <td>43.648960</td>\n      <td>-79.456325</td>\n    </tr>\n    <tr>\n      <th>36</th>\n      <td>M6S</td>\n      <td>West Toronto</td>\n      <td>Runnymede,Swansea</td>\n      <td>43.651571</td>\n      <td>-79.484450</td>\n    </tr>\n    <tr>\n      <th>37</th>\n      <td>M7Y</td>\n      <td>East Toronto</td>\n      <td>Business Reply Mail Processing Centre 969 Eastern</td>\n      <td>43.662744</td>\n      <td>-79.321558</td>\n    </tr>\n  </tbody>\n</table>\n</div>",
                        "text/plain": "   PostalCode       Borough  \\\n33        M6K  West Toronto   \n34        M6P  West Toronto   \n35        M6R  West Toronto   \n36        M6S  West Toronto   \n37        M7Y  East Toronto   \n\n                                        Neighbourhood   Latitude  Longitude  \n33         Brockton,Exhibition Place,Parkdale Village  43.636847 -79.428191  \n34                       High Park,The Junction South  43.661608 -79.464763  \n35                              Parkdale,Roncesvalles  43.648960 -79.456325  \n36                                  Runnymede,Swansea  43.651571 -79.484450  \n37  Business Reply Mail Processing Centre 969 Eastern  43.662744 -79.321558  "
                    },
                    "execution_count": 32,
                    "metadata": {},
                    "output_type": "execute_result"
                }
            ],
            "source": "Toronto_data.tail()"
        },
        {
            "cell_type": "markdown",
            "metadata": {},
            "source": "#### 3.2 Create a map of Toronto"
        },
        {
            "cell_type": "code",
            "execution_count": 27,
            "metadata": {},
            "outputs": [],
            "source": "latitude = 43.651571\nlongitude= -79.484450"
        },
        {
            "cell_type": "code",
            "execution_count": 30,
            "metadata": {},
            "outputs": [],
            "source": "# Matplotlib and associated plotting modules\nimport matplotlib.cm as cm\nimport matplotlib.colors as colors\n\n# import k-means from clustering stage\nfrom sklearn.cluster import KMeans\n\n#!conda install -c conda-forge folium=0.5.0 --yes # uncomment this line if you haven't completed the Foursquare API lab\nimport folium # map rendering library"
        },
        {
            "cell_type": "code",
            "execution_count": 33,
            "metadata": {},
            "outputs": [
                {
                    "data": {
                        "text/html": "<div style=\"width:100%;\"><div style=\"position:relative;width:100%;height:0;padding-bottom:60%;\"><iframe src=\"data:text/html;charset=utf-8;base64,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\" style=\"position:absolute;width:100%;height:100%;left:0;top:0;border:none !important;\" allowfullscreen webkitallowfullscreen mozallowfullscreen></iframe></div></div>",
                        "text/plain": "<folium.folium.Map at 0x7f7cd47bf9b0>"
                    },
                    "execution_count": 33,
                    "metadata": {},
                    "output_type": "execute_result"
                }
            ],
            "source": "map_toronto = folium.Map(location=[latitude, longitude], zoom_start=11)\n\n# add markers to map\nfor lat, lng, label in zip(Toronto_data['Latitude'], Toronto_data['Longitude'], Toronto_data['Neighbourhood']):\n    label = folium.Popup(label, parse_html=True)\n    folium.CircleMarker(\n        [lat, lng],\n        radius=5,\n        popup=label,\n        color='blue',\n        fill=True,\n        fill_color='#3186cc',\n        fill_opacity=0.7,\n        parse_html=False).add_to(map_toronto)  \n    \nmap_toronto"
        },
        {
            "cell_type": "markdown",
            "metadata": {},
            "source": "#### 3.3 Define Foursquare Credentials and Version"
        },
        {
            "cell_type": "code",
            "execution_count": null,
            "metadata": {},
            "outputs": [],
            "source": "CLIENT_ID = 'your-client-ID' # your Foursquare ID\nCLIENT_SECRET = 'your-client-secret' # your Foursquare Secret\nVERSION = '20180605' # Foursquare API version\n\nprint('Your credentails:')\nprint('CLIENT_ID: ' + CLIENT_ID)\nprint('CLIENT_SECRET:' + CLIENT_SECRET)"
        },
        {
            "cell_type": "code",
            "execution_count": null,
            "metadata": {},
            "outputs": [],
            "source": "Toronto_data.loc[0, 'Neighborhood']"
        },
        {
            "cell_type": "code",
            "execution_count": null,
            "metadata": {},
            "outputs": [],
            "source": "neighborhood_latitude = manhattan_data.loc[0, 'Latitude'] # neighborhood latitude value\nneighborhood_longitude = manhattan_data.loc[0, 'Longitude'] # neighborhood longitude value\n\nneighborhood_name = manhattan_data.loc[0, 'Neighborhood'] # neighborhood name\n\nprint('Latitude and longitude values of {} are {}, {}.'.format(neighborhood_name, \n                                                               neighborhood_latitude, \n                                                               neighborhood_longitude))"
        },
        {
            "cell_type": "markdown",
            "metadata": {},
            "source": "#### 3.4 Create a function to repeat the same process to all the neighborhoods in Toronto Dataframe"
        },
        {
            "cell_type": "code",
            "execution_count": null,
            "metadata": {},
            "outputs": [],
            "source": "LIMIT = 100 # limit of number of venues returned by Foursquare API\nradius = 500 # define radius"
        },
        {
            "cell_type": "code",
            "execution_count": null,
            "metadata": {},
            "outputs": [],
            "source": "def getNearbyVenues(names, latitudes, longitudes, radius=500):\n    \n    venues_list=[]\n    for name, lat, lng in zip(names, latitudes, longitudes):\n        print(name)\n            \n        # create the API request URL\n        url = 'https://api.foursquare.com/v2/venues/explore?&client_id={}&client_secret={}&v={}&ll={},{}&radius={}&limit={}'.format(\n            CLIENT_ID, \n            CLIENT_SECRET, \n            VERSION, \n            lat, \n            lng, \n            radius, \n            LIMIT)\n            \n        # make the GET request\n        results = requests.get(url).json()[\"response\"]['groups'][0]['items']\n        \n        # return only relevant information for each nearby venue\n        venues_list.append([(\n            name, \n            lat, \n            lng, \n            v['venue']['name'], \n            v['venue']['location']['lat'], \n            v['venue']['location']['lng'],  \n            v['venue']['categories'][0]['name']) for v in results])\n\n    nearby_venues = pd.DataFrame([item for venue_list in venues_list for item in venue_list])\n    nearby_venues.columns = ['Neighborhood', \n                  'Neighborhood Latitude', \n                  'Neighborhood Longitude', \n                  'Venue', \n                  'Venue Latitude', \n                  'Venue Longitude', \n                  'Venue Category']\n    \n    return(nearby_venues)\n"
        },
        {
            "cell_type": "code",
            "execution_count": null,
            "metadata": {},
            "outputs": [],
            "source": "toronto_venues = getNearbyVenues(names=toronto_data['Neighbourhood'],\n                                   latitudes=toronto_data['Latitude'],\n                                   longitudes=toronto_data['Longitude']\n                                  )"
        },
        {
            "cell_type": "markdown",
            "metadata": {},
            "source": "##### let's check the size of the resulting dataframe"
        },
        {
            "cell_type": "code",
            "execution_count": null,
            "metadata": {},
            "outputs": [],
            "source": "print(toronto_venues.shape)\ntoronto_venues.head()"
        },
        {
            "cell_type": "markdown",
            "metadata": {},
            "source": "##### Let's find out how many unique categories can be curated from all the returned venues"
        },
        {
            "cell_type": "code",
            "execution_count": null,
            "metadata": {},
            "outputs": [],
            "source": "print('There are {} uniques categories.'.format(len(toronto_venues['Venue Category'].unique())))\n"
        },
        {
            "cell_type": "code",
            "execution_count": null,
            "metadata": {},
            "outputs": [],
            "source": "toronto_venues.groupby('Neighborhood').count()"
        },
        {
            "cell_type": "markdown",
            "metadata": {},
            "source": "#### 3.5 Analyze Each Neighborhood"
        },
        {
            "cell_type": "code",
            "execution_count": null,
            "metadata": {},
            "outputs": [],
            "source": "toronto_onehot = pd.get_dummies(toronto_venues[['Venue Category']], prefix=\"\", prefix_sep=\"\")\n\n# add neighborhood column back to dataframe\ntoronto_onehot['Neighborhood'] = toronto_venues['Neighborhood'] \n\n# move neighborhood column to the first column\ncols=list(toronto_onehot.columns.values)\ncols.pop(cols.index('Neighborhood'))\ntoronto_onehot=toronto_onehot[['Neighborhood']+cols]\n\n# rename Neighborhood for Neighbourhood so that future merge works\ntoronto_onehot.rename(columns = {'Neighborhood': 'Neighbourhood'}, inplace = True)\ntoronto_onehot.head()"
        },
        {
            "cell_type": "markdown",
            "metadata": {},
            "source": "##### Next, let's group rows by neighborhood and by taking the mean of the frequency of occurrence of each category"
        },
        {
            "cell_type": "code",
            "execution_count": null,
            "metadata": {},
            "outputs": [],
            "source": "toronto_grouped = toronto_onehot.groupby('Neighbourhood').mean().reset_index()\ntoronto_grouped"
        },
        {
            "cell_type": "markdown",
            "metadata": {},
            "source": "##### Let's print each neighborhood along with the top 5 most common venues"
        },
        {
            "cell_type": "code",
            "execution_count": null,
            "metadata": {},
            "outputs": [],
            "source": "um_top_venues = 5\n\nfor hood in toronto_grouped['Neighbourhood']:\n    print(\"----\"+hood+\"----\")\n    temp = toronto_grouped[toronto_grouped['Neighbourhood'] == hood].T.reset_index()\n    temp.columns = ['venue','freq']\n    temp = temp.iloc[1:]\n    temp['freq'] = temp['freq'].astype(float)\n    temp = temp.round({'freq': 2})\n    print(temp.sort_values('freq', ascending=False).reset_index(drop=True).head(num_top_venues))\n    print('\\n')"
        },
        {
            "cell_type": "markdown",
            "metadata": {},
            "source": "##### Let's put that into a *pandas* dataframe"
        },
        {
            "cell_type": "code",
            "execution_count": null,
            "metadata": {},
            "outputs": [],
            "source": "def return_most_common_venues(row, num_top_venues):\n    row_categories = row.iloc[1:]\n    row_categories_sorted = row_categories.sort_values(ascending=False)\n    \n    return row_categories_sorted.index.values[0:num_top_venues]"
        },
        {
            "cell_type": "code",
            "execution_count": null,
            "metadata": {},
            "outputs": [],
            "source": "num_top_venues = 10\n\nindicators = ['st', 'nd', 'rd']\n\n# create columns according to number of top venues\ncolumns = ['Neighbourhood']\nfor ind in np.arange(num_top_venues):\n    try:\n        columns.append('{}{} Most Common Venue'.format(ind+1, indicators[ind]))\n    except:\n        columns.append('{}th Most Common Venue'.format(ind+1))\n\n# create a new dataframe\nneighborhoods_venues_sorted = pd.DataFrame(columns=columns)\nneighborhoods_venues_sorted['Neighbourhood'] = toronto_grouped['Neighbourhood']\n\nfor ind in np.arange(toronto_grouped.shape[0]):\n    neighborhoods_venues_sorted.iloc[ind, 1:] = return_most_common_venues(toronto_grouped.iloc[ind, :], num_top_venues)\n\nneighborhoods_venues_sorted"
        },
        {
            "cell_type": "markdown",
            "metadata": {},
            "source": "#### 3.6 Cluster Neighbourhoods"
        },
        {
            "cell_type": "markdown",
            "metadata": {},
            "source": "###### Run *k*-means to cluster the neighborhood into 5 clusters"
        },
        {
            "cell_type": "code",
            "execution_count": null,
            "metadata": {},
            "outputs": [],
            "source": "# set number of clusters\nkclusters = 5\n\ntoronto_grouped_clustering = toronto_grouped.drop('Neighbourhood', 1)\n\n# run k-means clustering\nkmeans = KMeans(n_clusters=kclusters, random_state=0).fit(toronto_grouped_clustering)\n\n# check cluster labels generated for each row in the dataframe\nkmeans.labels_[0:10]"
        },
        {
            "cell_type": "code",
            "execution_count": null,
            "metadata": {},
            "outputs": [],
            "source": "toronto_merged = toronto_data\n\n# add clustering labels\ntoronto_merged['Cluster Labels'] = kmeans.labels_\n\n# merge toronto_grouped with toronto_data to add latitude/longitude for each neighborhood\ntoronto_merged = toronto_merged.join(neighborhoods_venues_sorted.set_index('Neighbourhood'), on='Neighbourhood')\n\ntoronto_merged.head() # check the last columns!"
        },
        {
            "cell_type": "markdown",
            "metadata": {},
            "source": "#### 3.7 Final resulting clusters visualization - Toronto Neighborhoods"
        },
        {
            "cell_type": "code",
            "execution_count": null,
            "metadata": {},
            "outputs": [],
            "source": "# create map\nmap_clusters = folium.Map(location=[latitude, longitude], zoom_start=11)\n\n# set color scheme for the clusters\nx = np.arange(kclusters)\nys = [i+x+(i*x)**2 for i in range(kclusters)]\ncolors_array = cm.rainbow(np.linspace(0, 1, len(ys)))\nrainbow = [colors.rgb2hex(i) for i in colors_array]\n\n# add markers to the map\nmarkers_colors = []\nfor lat, lon, poi, cluster in zip(toronto_merged['Latitude'], toronto_merged['Longitude'], toronto_merged['Neighbourhood'], toronto_merged['Cluster Labels']):\n    label = folium.Popup(str(poi) + ' Cluster ' + str(cluster), parse_html=True)\n    folium.CircleMarker(\n        [lat, lon],\n        radius=5,\n        popup=label,\n        color=rainbow[cluster-1],\n        fill=True,\n        fill_color=rainbow[cluster-1],\n        fill_opacity=0.7).add_to(map_clusters)\n       \nmap_clusters"
        },
        {
            "cell_type": "markdown",
            "metadata": {},
            "source": "#### 3.8 Examine Clusters"
        },
        {
            "cell_type": "markdown",
            "metadata": {},
            "source": "##### Cluster 1:"
        },
        {
            "cell_type": "code",
            "execution_count": null,
            "metadata": {},
            "outputs": [],
            "source": "toronto_merged.loc[toronto_merged['Cluster Labels'] == 0, toronto_merged.columns[[1] + list(range(5, toronto_merged.shape[1]))]]"
        },
        {
            "cell_type": "markdown",
            "metadata": {},
            "source": "##### Cluster 2:"
        },
        {
            "cell_type": "code",
            "execution_count": null,
            "metadata": {},
            "outputs": [],
            "source": "toronto_merged.loc[toronto_merged['Cluster Labels'] == 1, toronto_merged.columns[[1] + list(range(5, toronto_merged.shape[1]))]]"
        },
        {
            "cell_type": "markdown",
            "metadata": {},
            "source": "##### Cluster 3:"
        },
        {
            "cell_type": "code",
            "execution_count": null,
            "metadata": {},
            "outputs": [],
            "source": "toronto_merged.loc[toronto_merged['Cluster Labels'] == 2, toronto_merged.columns[[1] + list(range(5, toronto_merged.shape[1]))]]"
        },
        {
            "cell_type": "markdown",
            "metadata": {},
            "source": "##### Cluster 4:"
        },
        {
            "cell_type": "code",
            "execution_count": null,
            "metadata": {},
            "outputs": [],
            "source": "toronto_merged.loc[toronto_merged['Cluster Labels'] == 3, toronto_merged.columns[[1] + list(range(5, toronto_merged.shape[1]))]]"
        },
        {
            "cell_type": "markdown",
            "metadata": {},
            "source": "##### Cluster 5:"
        },
        {
            "cell_type": "code",
            "execution_count": null,
            "metadata": {},
            "outputs": [],
            "source": "toronto_merged.loc[toronto_merged['Cluster Labels'] == 4, toronto_merged.columns[[1] + list(range(5, toronto_merged.shape[1]))]]"
        }
    ],
    "metadata": {
        "kernelspec": {
            "display_name": "Python 3.6",
            "language": "python",
            "name": "python3"
        },
        "language_info": {
            "codemirror_mode": {
                "name": "ipython",
                "version": 3
            },
            "file_extension": ".py",
            "mimetype": "text/x-python",
            "name": "python",
            "nbconvert_exporter": "python",
            "pygments_lexer": "ipython3",
            "version": "3.6.8"
        }
    },
    "nbformat": 4,
    "nbformat_minor": 1
}